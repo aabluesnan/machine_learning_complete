{
 "cells": [
  {
   "cell_type": "markdown",
   "metadata": {},
   "source": [
    "## Function\n",
    "\n",
    "* How to define function\n",
    "* `Doc String` is used to add notes about the function. It is not a must to use it but it is a `good practice`.\n",
    "* Displaying the doc string noted early"
   ]
  },
  {
   "cell_type": "code",
   "execution_count": 1,
   "metadata": {},
   "outputs": [],
   "source": [
    "def activity(name_1, name_2):\n",
    "\n",
    "    \"\"\"\n",
    "    Given two string as inputs\n",
    "    it will return a sentence\n",
    "    \"\"\"\n",
    "\n",
    "    print(\"{} and {} are playing basketball\".format(name_1, name_2))"
   ]
  },
  {
   "cell_type": "code",
   "execution_count": 2,
   "metadata": {},
   "outputs": [
    {
     "name": "stdout",
     "output_type": "stream",
     "text": [
      "Jordan and Pippen are playing basketball\n"
     ]
    }
   ],
   "source": [
    "activity(\"Jordan\",\"Pippen\")"
   ]
  },
  {
   "cell_type": "code",
   "execution_count": 3,
   "metadata": {},
   "outputs": [
    {
     "name": "stdout",
     "output_type": "stream",
     "text": [
      "\n",
      "    Given two string as inputs\n",
      "    it will return a sentence\n",
      "    \n"
     ]
    }
   ],
   "source": [
    "print(activity.__doc__)"
   ]
  },
  {
   "cell_type": "code",
   "execution_count": null,
   "metadata": {},
   "outputs": [],
   "source": []
  }
 ],
 "metadata": {
  "kernelspec": {
   "display_name": "Python 3.9.1 64-bit",
   "language": "python",
   "name": "python3"
  },
  "language_info": {
   "codemirror_mode": {
    "name": "ipython",
    "version": 3
   },
   "file_extension": ".py",
   "mimetype": "text/x-python",
   "name": "python",
   "nbconvert_exporter": "python",
   "pygments_lexer": "ipython3",
   "version": "3.9.1"
  },
  "orig_nbformat": 4,
  "vscode": {
   "interpreter": {
    "hash": "59258c642936e76c4c0aff650b6f15c5d86cf61f1441eff7074435ee8d876630"
   }
  }
 },
 "nbformat": 4,
 "nbformat_minor": 2
}
