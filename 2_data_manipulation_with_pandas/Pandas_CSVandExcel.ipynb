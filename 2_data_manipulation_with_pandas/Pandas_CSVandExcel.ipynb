{
 "cells": [
  {
   "cell_type": "markdown",
   "metadata": {},
   "source": [
    "### H. Beyond Dataframes: Working with CSV and Excel\n",
    "\n",
    "In this last section of Pandas' fundamentals, we will see how to read real world data with different formats: CSV and Excel"
   ]
  },
  {
   "cell_type": "markdown",
   "metadata": {},
   "source": []
  }
 ],
 "metadata": {
  "kernelspec": {
   "display_name": "Python 3.9.1 64-bit",
   "language": "python",
   "name": "python3"
  },
  "language_info": {
   "name": "python",
   "version": "3.9.1"
  },
  "orig_nbformat": 4,
  "vscode": {
   "interpreter": {
    "hash": "59258c642936e76c4c0aff650b6f15c5d86cf61f1441eff7074435ee8d876630"
   }
  }
 },
 "nbformat": 4,
 "nbformat_minor": 2
}
